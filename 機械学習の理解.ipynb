{
 "cells": [
  {
   "cell_type": "markdown",
   "metadata": {},
   "source": [
    "# 機械学習とは何か理解しよう\n",
    "\n",
    "経験（データ）によってタスクを解くときのパフォーマンスが改善する簡単な例を実践してみましょう。"
   ]
  },
  {
   "cell_type": "markdown",
   "metadata": {},
   "source": [
    "## 0.前準備\n",
    "\n",
    "pythonのversion確認を最初に入れています。このnotebookは2系でも3系でも動くように作ってあります。<br>\n",
    "また、環境によっては単位(locale)の設定などでmatplotlibがインストールされない場合もあります。ここでは設定を確認し、空ならば設定するようにしています。\n",
    "\n",
    "**これを実行してもエラーが出る場合はご自身で解決をお願いします。**"
   ]
  },
  {
   "cell_type": "code",
   "execution_count": null,
   "metadata": {},
   "outputs": [],
   "source": [
    "!python -V"
   ]
  },
  {
   "cell_type": "code",
   "execution_count": null,
   "metadata": {},
   "outputs": [],
   "source": [
    "import os\n",
    "\n",
    "def set_locale():\n",
    "    default = os.environ.get('LC_ALL')\n",
    "    print( \"Your default locale is\", default )\n",
    "    if default is None:\n",
    "        os.environ.setdefault('LC_ALL', 'ja_JP.UTF-8')\n",
    "        print( \"Your locale is set as ja_JP.UTF-8\" )\n",
    "\n",
    "set_locale()"
   ]
  },
  {
   "cell_type": "markdown",
   "metadata": {},
   "source": [
    "## 1.実際に確認\n",
    "\n",
    "「機械学習が経験Eの蓄積によってあるタスクTを解いたときのパフォーマンスPが向上する」という例の簡単なものとして、線形回帰を考えます。<br>\n",
    "この場合、経験はデータ量、タスクが回帰式の係数を推測すること、パフォーマンスは回帰係数の誤差が小さいほど高い、という状況設定であるとしましょう。<br>\n",
    "データ量が増加するにつれ、より正確に係数が推測されていく様子を見ていきましょう。<br>\n",
    "\n",
    "我々が全知全能の神である状況を考え、線形回帰式 $ y = 5 x + \\mathcal{N}(0,9) $ に基いてデータが生成されることを知っているとしましょう。\n",
    "ここで、 $ \\mathcal{N}(\\mu,\\sigma) $ は平均が $\\mu$ で分散が $\\sigma$ である正規分布です。現実ではどんな分布からデータが生成されているかは分からない場合がほとんどですが、ここでは理解のためにそれが分かっているという状況です。<br>\n",
    "この式からデータを生成し、生成するデータ数が増加するとともに係数の推測精度が向上することを確認してみましょう。\n",
    "\n",
    "まず、データ数を10個生成する場合を見てみます。"
   ]
  },
  {
   "cell_type": "code",
   "execution_count": null,
   "metadata": {},
   "outputs": [],
   "source": [
    "### import modules\n",
    "%matplotlib inline\n",
    "\n",
    "import numpy as np\n",
    "import matplotlib.pyplot as plt\n",
    "from sklearn.linear_model import LinearRegression\n",
    "from scipy import stats"
   ]
  },
  {
   "cell_type": "code",
   "execution_count": null,
   "metadata": {},
   "outputs": [],
   "source": [
    "### create samples\n",
    "sample_size = 50\n",
    "err_sigma = 3\n",
    "\n",
    "### generate data points\n",
    "x = np.random.rand(sample_size, 1)*10\n",
    "err = err_sigma*np.random.randn(sample_size, 1)\n",
    "\n",
    "y = 5 * x  + err\n",
    "\n",
    "### train a linear regression model\n",
    "slope, intercept, r_value, p_value, std_err = stats.linregress(x.flatten(),y.flatten())\n",
    "\n",
    "### make predictions\n",
    "xt = np.linspace(0.0, 10, num=1000).reshape((1000, 1))\n",
    "yt = xt*slope + intercept\n",
    "\n",
    "### plot samples and regression result\n",
    "plt.plot(x, y, \"o\")\n",
    "plt.plot(xt, yt)\n",
    "plt.title(\"y = 5x + error\")\n",
    "plt.xlabel(\"x\")\n",
    "plt.ylabel(\"y\")\n",
    "plt.show()\n",
    "\n",
    "### estimate coeffieients of the regression\n",
    "print( \"slope : \", round(slope,4), \"standard error : \", round(std_err,4) )\n",
    "\n"
   ]
  },
  {
   "cell_type": "markdown",
   "metadata": {},
   "source": [
    "標準誤差が大きいため、係数の推測結果はセルの実行毎に大きく変わることに注意して下さい。\n",
    "\n",
    "次にデータ数を100個にした場合を見てみましょう。"
   ]
  },
  {
   "cell_type": "code",
   "execution_count": null,
   "metadata": {},
   "outputs": [],
   "source": [
    "### create samples\n",
    "sample_size = 100\n",
    "err_sigma = 3\n",
    "\n",
    "### generate data points\n",
    "x = np.random.rand(sample_size, 1)*10\n",
    "err = err_sigma*np.random.randn(sample_size, 1)\n",
    "y = 5 * x  + err\n",
    "\n",
    "### train a linear regression model\n",
    "#reg = LinearRegression()\n",
    "#reg.fit(x, y)\n",
    "slope, intercept, r_value, p_value, std_err = stats.linregress(x.flatten(),y.flatten())\n",
    "\n",
    "### make predictions\n",
    "xt = np.linspace(0.0, 10, num=1000).reshape((1000, 1))\n",
    "yt = xt*slope + intercept\n",
    "\n",
    "### plot samples and regression result\n",
    "plt.plot(x, y, \"o\")\n",
    "plt.plot(xt, yt)\n",
    "plt.title(\"y = 5x + error\")\n",
    "plt.xlabel(\"x\")\n",
    "plt.ylabel(\"y\")\n",
    "plt.show()\n",
    "\n",
    "### estimate coeffieients of the regression\n",
    "print( \"slope : \", round(slope,4), \"standard error : \", round(std_err,4) )"
   ]
  },
  {
   "cell_type": "markdown",
   "metadata": {},
   "source": [
    "データ数を増やすと誤差は減り、推測の精度が高まっていることが見て取れます。\n",
    "これは非常に簡単な例ですが、データ量によってパフォーマンスが高まるという機械学習の本質的な性質を示しています。\n",
    "\n",
    "興味がある方は更にデータ数を増やし、データ数と誤差の数学的な関係を考えてみるとよいでしょう。"
   ]
  },
  {
   "cell_type": "code",
   "execution_count": null,
   "metadata": {},
   "outputs": [],
   "source": []
  }
 ],
 "metadata": {
  "anaconda-cloud": {},
  "kernelspec": {
   "display_name": "Python 3",
   "language": "python",
   "name": "python3"
  },
  "language_info": {
   "codemirror_mode": {
    "name": "ipython",
    "version": 3
   },
   "file_extension": ".py",
   "mimetype": "text/x-python",
   "name": "python",
   "nbconvert_exporter": "python",
   "pygments_lexer": "ipython3",
   "version": "3.6.5"
  }
 },
 "nbformat": 4,
 "nbformat_minor": 1
}
